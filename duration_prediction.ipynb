{
  "cells": [
    {
      "cell_type": "markdown",
      "metadata": {
        "id": "view-in-github",
        "colab_type": "text"
      },
      "source": [
        "<a href=\"https://colab.research.google.com/github/taltaf913/MLOps-Zoomcamp-2024/blob/main/duration_prediction.ipynb\" target=\"_parent\"><img src=\"https://colab.research.google.com/assets/colab-badge.svg\" alt=\"Open In Colab\"/></a>"
      ]
    },
    {
      "cell_type": "code",
      "execution_count": 56,
      "id": "b2bd82d7",
      "metadata": {
        "colab": {
          "base_uri": "https://localhost:8080/"
        },
        "id": "b2bd82d7",
        "outputId": "d85bba4d-c885-4b81-9021-b2ea588f6171"
      },
      "outputs": [
        {
          "output_type": "stream",
          "name": "stdout",
          "text": [
            "Python 3.10.12\n"
          ]
        }
      ],
      "source": [
        "!python -V"
      ]
    },
    {
      "cell_type": "code",
      "execution_count": 57,
      "id": "41062d8a",
      "metadata": {
        "id": "41062d8a"
      },
      "outputs": [],
      "source": [
        "import pandas as pd"
      ]
    },
    {
      "cell_type": "code",
      "execution_count": 58,
      "id": "c984c564",
      "metadata": {
        "id": "c984c564"
      },
      "outputs": [],
      "source": [
        "import pickle"
      ]
    },
    {
      "cell_type": "code",
      "execution_count": 59,
      "id": "4add538c",
      "metadata": {
        "id": "4add538c"
      },
      "outputs": [],
      "source": [
        "import seaborn as sns\n",
        "import matplotlib.pyplot as plt\n"
      ]
    },
    {
      "cell_type": "code",
      "execution_count": 60,
      "id": "8b135c2b",
      "metadata": {
        "id": "8b135c2b"
      },
      "outputs": [],
      "source": [
        "from sklearn.feature_extraction import DictVectorizer\n",
        "from sklearn.linear_model import LinearRegression\n",
        "from sklearn.linear_model import Lasso\n",
        "from sklearn.linear_model import Ridge\n",
        "\n",
        "from sklearn.metrics import mean_squared_error"
      ]
    },
    {
      "cell_type": "code",
      "source": [
        "!wget https://d37ci6vzurychx.cloudfront.net/trip-data/yellow_tripdata_2023-01.parquet https://d37ci6vzurychx.cloudfront.net/trip-data/yellow_tripdata_2023-02.parquet"
      ],
      "metadata": {
        "colab": {
          "base_uri": "https://localhost:8080/"
        },
        "id": "d6_PqUZNIprT",
        "outputId": "6d23021e-b885-4aca-8820-142176a6176d"
      },
      "id": "d6_PqUZNIprT",
      "execution_count": 61,
      "outputs": [
        {
          "output_type": "stream",
          "name": "stdout",
          "text": [
            "--2024-05-18 06:48:35--  https://d37ci6vzurychx.cloudfront.net/trip-data/yellow_tripdata_2023-01.parquet\n",
            "Resolving d37ci6vzurychx.cloudfront.net (d37ci6vzurychx.cloudfront.net)... 99.84.245.157, 99.84.245.9, 99.84.245.141, ...\n",
            "Connecting to d37ci6vzurychx.cloudfront.net (d37ci6vzurychx.cloudfront.net)|99.84.245.157|:443... connected.\n",
            "HTTP request sent, awaiting response... 200 OK\n",
            "Length: 47673370 (45M) [application/x-www-form-urlencoded]\n",
            "Saving to: ‘yellow_tripdata_2023-01.parquet.1’\n",
            "\n",
            "yellow_tripdata_202 100%[===================>]  45.46M   131MB/s    in 0.3s    \n",
            "\n",
            "2024-05-18 06:48:36 (131 MB/s) - ‘yellow_tripdata_2023-01.parquet.1’ saved [47673370/47673370]\n",
            "\n",
            "--2024-05-18 06:48:36--  https://d37ci6vzurychx.cloudfront.net/trip-data/yellow_tripdata_2023-02.parquet\n",
            "Reusing existing connection to d37ci6vzurychx.cloudfront.net:443.\n",
            "HTTP request sent, awaiting response... 200 OK\n",
            "Length: 47748012 (46M) [application/x-www-form-urlencoded]\n",
            "Saving to: ‘yellow_tripdata_2023-02.parquet.1’\n",
            "\n",
            "yellow_tripdata_202 100%[===================>]  45.54M   185MB/s    in 0.2s    \n",
            "\n",
            "2024-05-18 06:48:36 (185 MB/s) - ‘yellow_tripdata_2023-02.parquet.1’ saved [47748012/47748012]\n",
            "\n",
            "FINISHED --2024-05-18 06:48:36--\n",
            "Total wall clock time: 0.8s\n",
            "Downloaded: 2 files, 91M in 0.6s (153 MB/s)\n"
          ]
        }
      ]
    },
    {
      "cell_type": "code",
      "source": [
        "df_jan = pd.read_parquet(\"yellow_tripdata_2023-01.parquet\")\n",
        "df_feb = pd.read_parquet(\"yellow_tripdata_2023-02.parquet\")"
      ],
      "metadata": {
        "id": "sFMoh25-Y8cv"
      },
      "id": "sFMoh25-Y8cv",
      "execution_count": 62,
      "outputs": []
    },
    {
      "cell_type": "code",
      "source": [
        "print(f\"There are {df_jan.columns.size} columns in the January data\")"
      ],
      "metadata": {
        "colab": {
          "base_uri": "https://localhost:8080/"
        },
        "id": "YSZCq_qoZJfM",
        "outputId": "25346c84-2fa6-4e23-b4e6-d01bd7973de8"
      },
      "id": "YSZCq_qoZJfM",
      "execution_count": 63,
      "outputs": [
        {
          "output_type": "stream",
          "name": "stdout",
          "text": [
            "There are 19 columns in the January data\n"
          ]
        }
      ]
    },
    {
      "cell_type": "code",
      "source": [
        "#Let's compute the duration of the trips, in minutes.\n",
        "df_jan['duration'] = df_jan.tpep_dropoff_datetime - df_jan.tpep_pickup_datetime\n",
        "df_jan.duration = df_jan.duration.apply(lambda td: td.total_seconds()/60)"
      ],
      "metadata": {
        "id": "IAZsl6L4ZBnp"
      },
      "id": "IAZsl6L4ZBnp",
      "execution_count": 64,
      "outputs": []
    },
    {
      "cell_type": "code",
      "source": [
        "import numpy as np\n",
        "std = df_jan[\"duration\"].std()\n",
        "print(f\"The standard deviation of trip durations for Jan: {np.round(std,2)}\")\n"
      ],
      "metadata": {
        "colab": {
          "base_uri": "https://localhost:8080/"
        },
        "id": "HhIYryTmZ80O",
        "outputId": "f5c865c2-1dad-4142-f90d-ec79f6b5c799"
      },
      "id": "HhIYryTmZ80O",
      "execution_count": 65,
      "outputs": [
        {
          "output_type": "stream",
          "name": "stdout",
          "text": [
            "The standard deviation of trip durations for Jan: 42.59\n"
          ]
        }
      ]
    },
    {
      "cell_type": "code",
      "execution_count": 66,
      "id": "47b0eb9b",
      "metadata": {
        "colab": {
          "base_uri": "https://localhost:8080/",
          "height": 454
        },
        "id": "47b0eb9b",
        "outputId": "93d65c0e-5f74-4f9f-ad54-9ca925005a0c"
      },
      "outputs": [
        {
          "output_type": "display_data",
          "data": {
            "text/plain": [
              "<Figure size 640x480 with 1 Axes>"
            ],
            "image/png": "[encoded data removed]"
          },
          "metadata": {}
        }
      ],
      "source": [
        "sns.boxplot(x=df_jan[\"duration\"])\n",
        "ax = plt.gca()\n",
        "ax.set_xscale(\"log\")"
      ]
    },
    {
      "cell_type": "code",
      "source": [
        "cond = (df_jan[\"duration\"] >= 1) & (df_jan[\"duration\"] <= 60)\n",
        "df_jan_clean = df_jan[cond]"
      ],
      "metadata": {
        "id": "ik-2yuhlarM6"
      },
      "id": "ik-2yuhlarM6",
      "execution_count": 67,
      "outputs": []
    },
    {
      "cell_type": "code",
      "source": [
        "df_jan_clean = df_jan_clean.reindex()\n",
        "ratio = df_jan_clean.shape[0] / df_jan.shape[0]"
      ],
      "metadata": {
        "id": "GOua6Jmra2OJ"
      },
      "id": "GOua6Jmra2OJ",
      "execution_count": 68,
      "outputs": []
    },
    {
      "cell_type": "code",
      "source": [
        "print(\n",
        "    f\"The fraction of records left after removing outliers is {np.round(ratio,2)*100}%\"\n",
        ")"
      ],
      "metadata": {
        "colab": {
          "base_uri": "https://localhost:8080/"
        },
        "id": "dZamaQCia4Va",
        "outputId": "ca1ba4a4-bff4-4ec4-9e7a-b07ca82ed34b"
      },
      "id": "dZamaQCia4Va",
      "execution_count": 69,
      "outputs": [
        {
          "output_type": "stream",
          "name": "stdout",
          "text": [
            "The fraction of records left after removing outliers is 98.0%\n"
          ]
        }
      ]
    },
    {
      "cell_type": "code",
      "source": [
        "#Let's apply one-hot encoding to the pickup and dropoff location IDs. We'll use only these two features for our model. What's the dimensionality of this matrix (number of columns)?\n",
        "categorical = [\"PULocationID\", \"DOLocationID\"]\n",
        "numerical = [\"trip_distance\"]"
      ],
      "metadata": {
        "id": "brUyIEmxbFss"
      },
      "id": "brUyIEmxbFss",
      "execution_count": 70,
      "outputs": []
    },
    {
      "cell_type": "code",
      "source": [
        "df_jan_clean[categorical] = df_jan_clean[categorical].astype(str)"
      ],
      "metadata": {
        "id": "e_H1K69fbQMs"
      },
      "id": "e_H1K69fbQMs",
      "execution_count": 71,
      "outputs": []
    },
    {
      "cell_type": "code",
      "source": [
        "train_dicts = df_jan_clean[categorical].to_dict(orient=\"records\")\n",
        "dv = DictVectorizer()\n",
        "X_train = dv.fit_transform(train_dicts)"
      ],
      "metadata": {
        "id": "N4GnDPymbVac"
      },
      "id": "N4GnDPymbVac",
      "execution_count": 72,
      "outputs": []
    },
    {
      "cell_type": "code",
      "source": [
        "print(f\"The number of columns in the design matrix is {X_train.shape[1]}\")"
      ],
      "metadata": {
        "colab": {
          "base_uri": "https://localhost:8080/"
        },
        "id": "iKURxR-ObbHQ",
        "outputId": "5f4d6247-9b88-4d68-a259-7bf4b8a1e2e0"
      },
      "id": "iKURxR-ObbHQ",
      "execution_count": 73,
      "outputs": [
        {
          "output_type": "stream",
          "name": "stdout",
          "text": [
            "The number of columns in the design matrix is 515\n"
          ]
        }
      ]
    },
    {
      "cell_type": "code",
      "source": [
        "tmp1 = df_jan_clean[\"DOLocationID\"].unique()\n",
        "tmp2 = df_jan_clean[\"PULocationID\"].unique()"
      ],
      "metadata": {
        "id": "vRh3bh-Ubmej"
      },
      "id": "vRh3bh-Ubmej",
      "execution_count": 74,
      "outputs": []
    },
    {
      "cell_type": "code",
      "source": [
        "print(\n",
        "    f\"Sanity check: the sum of the number of unique elements for 2 features is {tmp1.shape[0]+tmp2.shape[0]}\"\n",
        ")"
      ],
      "metadata": {
        "colab": {
          "base_uri": "https://localhost:8080/"
        },
        "id": "6WwjbetHbrSF",
        "outputId": "a4ea82fa-b0f2-436a-98a9-b7d9d6f07c82"
      },
      "id": "6WwjbetHbrSF",
      "execution_count": 75,
      "outputs": [
        {
          "output_type": "stream",
          "name": "stdout",
          "text": [
            "Sanity check: the sum of the number of unique elements for 2 features is 515\n"
          ]
        }
      ]
    },
    {
      "cell_type": "code",
      "source": [
        "target = \"duration\"\n",
        "y_train = df_jan_clean[target].values\n",
        "\n",
        "lr = LinearRegression()\n",
        "lr.fit(X_train, y_train)"
      ],
      "metadata": {
        "colab": {
          "base_uri": "https://localhost:8080/",
          "height": 75
        },
        "id": "wdskQvE0cAYc",
        "outputId": "bfd5992c-e27b-426d-dc0a-98d49d0cddbe"
      },
      "id": "wdskQvE0cAYc",
      "execution_count": 76,
      "outputs": [
        {
          "output_type": "execute_result",
          "data": {
            "text/plain": [
              "LinearRegression()"
            ],
            "text/html": [
              "<style>#sk-container-id-2 {color: black;background-color: white;}#sk-container-id-2 pre{padding: 0;}#sk-container-id-2 div.sk-toggleable {background-color: white;}#sk-container-id-2 label.sk-toggleable__label {cursor: pointer;display: block;width: 100%;margin-bottom: 0;padding: 0.3em;box-sizing: border-box;text-align: center;}#sk-container-id-2 label.sk-toggleable__label-arrow:before {content: \"▸\";float: left;margin-right: 0.25em;color: #696969;}#sk-container-id-2 label.sk-toggleable__label-arrow:hover:before {color: black;}#sk-container-id-2 div.sk-estimator:hover label.sk-toggleable__label-arrow:before {color: black;}#sk-container-id-2 div.sk-toggleable__content {max-height: 0;max-width: 0;overflow: hidden;text-align: left;background-color: #f0f8ff;}#sk-container-id-2 div.sk-toggleable__content pre {margin: 0.2em;color: black;border-radius: 0.25em;background-color: #f0f8ff;}#sk-container-id-2 input.sk-toggleable__control:checked~div.sk-toggleable__content {max-height: 200px;max-width: 100%;overflow: auto;}#sk-container-id-2 input.sk-toggleable__control:checked~label.sk-toggleable__label-arrow:before {content: \"▾\";}#sk-container-id-2 div.sk-estimator input.sk-toggleable__control:checked~label.sk-toggleable__label {background-color: #d4ebff;}#sk-container-id-2 div.sk-label input.sk-toggleable__control:checked~label.sk-toggleable__label {background-color: #d4ebff;}#sk-container-id-2 input.sk-hidden--visually {border: 0;clip: rect(1px 1px 1px 1px);clip: rect(1px, 1px, 1px, 1px);height: 1px;margin: -1px;overflow: hidden;padding: 0;position: absolute;width: 1px;}#sk-container-id-2 div.sk-estimator {font-family: monospace;background-color: #f0f8ff;border: 1px dotted black;border-radius: 0.25em;box-sizing: border-box;margin-bottom: 0.5em;}#sk-container-id-2 div.sk-estimator:hover {background-color: #d4ebff;}#sk-container-id-2 div.sk-parallel-item::after {content: \"\";width: 100%;border-bottom: 1px solid gray;flex-grow: 1;}#sk-container-id-2 div.sk-label:hover label.sk-toggleable__label {background-color: #d4ebff;}#sk-container-id-2 div.sk-serial::before {content: \"\";position: absolute;border-left: 1px solid gray;box-sizing: border-box;top: 0;bottom: 0;left: 50%;z-index: 0;}#sk-container-id-2 div.sk-serial {display: flex;flex-direction: column;align-items: center;background-color: white;padding-right: 0.2em;padding-left: 0.2em;position: relative;}#sk-container-id-2 div.sk-item {position: relative;z-index: 1;}#sk-container-id-2 div.sk-parallel {display: flex;align-items: stretch;justify-content: center;background-color: white;position: relative;}#sk-container-id-2 div.sk-item::before, #sk-container-id-2 div.sk-parallel-item::before {content: \"\";position: absolute;border-left: 1px solid gray;box-sizing: border-box;top: 0;bottom: 0;left: 50%;z-index: -1;}#sk-container-id-2 div.sk-parallel-item {display: flex;flex-direction: column;z-index: 1;position: relative;background-color: white;}#sk-container-id-2 div.sk-parallel-item:first-child::after {align-self: flex-end;width: 50%;}#sk-container-id-2 div.sk-parallel-item:last-child::after {align-self: flex-start;width: 50%;}#sk-container-id-2 div.sk-parallel-item:only-child::after {width: 0;}#sk-container-id-2 div.sk-dashed-wrapped {border: 1px dashed gray;margin: 0 0.4em 0.5em 0.4em;box-sizing: border-box;padding-bottom: 0.4em;background-color: white;}#sk-container-id-2 div.sk-label label {font-family: monospace;font-weight: bold;display: inline-block;line-height: 1.2em;}#sk-container-id-2 div.sk-label-container {text-align: center;}#sk-container-id-2 div.sk-container {/* jupyter's `normalize.less` sets `[hidden] { display: none; }` but bootstrap.min.css set `[hidden] { display: none !important; }` so we also need the `!important` here to be able to override the default hidden behavior on the sphinx rendered scikit-learn.org. See: https://github.com/scikit-learn/scikit-learn/issues/21755 */display: inline-block !important;position: relative;}#sk-container-id-2 div.sk-text-repr-fallback {display: none;}</style><div id=\"sk-container-id-2\" class=\"sk-top-container\"><div class=\"sk-text-repr-fallback\"><pre>LinearRegression()</pre><b>In a Jupyter environment, please rerun this cell to show the HTML representation or trust the notebook. <br />On GitHub, the HTML representation is unable to render, please try loading this page with nbviewer.org.</b></div><div class=\"sk-container\" hidden><div class=\"sk-item\"><div class=\"sk-estimator sk-toggleable\"><input class=\"sk-toggleable__control sk-hidden--visually\" id=\"sk-estimator-id-2\" type=\"checkbox\" checked><label for=\"sk-estimator-id-2\" class=\"sk-toggleable__label sk-toggleable__label-arrow\">LinearRegression</label><div class=\"sk-toggleable__content\"><pre>LinearRegression()</pre></div></div></div></div></div>"
            ]
          },
          "metadata": {},
          "execution_count": 76
        }
      ]
    },
    {
      "cell_type": "code",
      "source": [
        "y_pred = lr.predict(X_train)\n",
        "RMSE_train = mean_squared_error(y_train, y_pred, squared=False) # squared = False so this is root MSE (RMSE)\n",
        "print(f\"The RMSE on training set is {np.round(RMSE_train,2)}\")"
      ],
      "metadata": {
        "colab": {
          "base_uri": "https://localhost:8080/"
        },
        "id": "oL_D2_1qcF_f",
        "outputId": "4a98f4f2-9c2b-44ad-accc-c801968d6165"
      },
      "id": "oL_D2_1qcF_f",
      "execution_count": 78,
      "outputs": [
        {
          "output_type": "stream",
          "name": "stdout",
          "text": [
            "The RMSE on training set is 7.65\n"
          ]
        }
      ]
    },
    {
      "cell_type": "code",
      "source": [
        "# read in the validation set\n",
        "df_feb\n",
        "\n",
        "# create a new column 'duration' in minutes\n",
        "df_feb['duration'] = df_feb.tpep_dropoff_datetime - df_feb.tpep_pickup_datetime\n",
        "# convert duration to seconds\n",
        "df_feb.duration = df_feb.duration.apply(lambda td: td.total_seconds()/60)\n",
        "\n",
        "# define categorical and numerical columns\n",
        "categorical = ['PULocationID', 'DOLocationID']\n",
        "numerical = ['trip_distance']\n",
        "\n",
        "# convert categorical columns to strings\n",
        "df_feb[categorical] = df_feb[categorical].astype(str)\n",
        "\n",
        "# remove outliers by clipping duration between 1 and 60 mins\n",
        "df_feb = df_feb[(df_feb.duration >= 1) & (df_feb.duration <= 60)]\n",
        "\n",
        "# Instantiate a dictionary vectorizer\n",
        "dv = DictVectorizer()\n",
        "\n",
        "# reinstate our training set\n",
        "train_dicts = df_feb[categorical].to_dict(orient='records')\n",
        "X_train = dv.fit_transform(train_dicts)\n",
        "\n",
        "# turn the categorical columns into a list of dictionaries\n",
        "val_dicts = df_feb[categorical].to_dict(orient='records')\n",
        "X_val = dv.transform(val_dicts)\n",
        "\n",
        "# define target variable and assign to y_val\n",
        "target = 'duration'\n",
        "y_train = df_feb[target].values\n",
        "y_val = df_feb[target].values\n",
        "\n",
        "# instantiate & fit our model to the TRAINING set\n",
        "lr = LinearRegression()\n",
        "lr.fit(X_train,y_train)\n",
        "\n",
        "# Get predictions for the VALIDATION set\n",
        "y_pred = lr.predict(X_val)\n",
        "\n",
        "# calculate RMSE\n",
        "mean_squared_error(y_val, y_pred, squared=False) # squared = False so this is root MSE (RMSE)"
      ],
      "metadata": {
        "colab": {
          "base_uri": "https://localhost:8080/"
        },
        "id": "hDP1mBmYe98C",
        "outputId": "d9373978-5202-4b73-d52a-3524d183ab20"
      },
      "id": "hDP1mBmYe98C",
      "execution_count": 79,
      "outputs": [
        {
          "output_type": "execute_result",
          "data": {
            "text/plain": [
              "7.778948573497093"
            ]
          },
          "metadata": {},
          "execution_count": 79
        }
      ]
    }
  ],
  "metadata": {
    "kernelspec": {
      "display_name": "Python 3 (ipykernel)",
      "language": "python",
      "name": "python3"
    },
    "language_info": {
      "codemirror_mode": {
        "name": "ipython",
        "version": 3
      },
      "file_extension": ".py",
      "mimetype": "text/x-python",
      "name": "python",
      "nbconvert_exporter": "python",
      "pygments_lexer": "ipython3",
      "version": "3.9.7"
    },
    "colab": {
      "provenance": [],
      "include_colab_link": true
    }
  },
  "nbformat": 4,
  "nbformat_minor": 5
}